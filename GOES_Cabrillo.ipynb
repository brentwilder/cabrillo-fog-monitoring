{
  "nbformat": 4,
  "nbformat_minor": 0,
  "metadata": {
    "colab": {
      "name": "GOES_Cabrillo",
      "provenance": [],
      "collapsed_sections": [],
      "mount_file_id": "164NxvaEnXKUJ_YKcvzwRrCft4G7THZxm",
      "authorship_tag": "ABX9TyOjGHYrzZIjwiMT8uILKo6F",
      "include_colab_link": true
    },
    "kernelspec": {
      "name": "python3",
      "display_name": "Python 3"
    },
    "language_info": {
      "name": "python"
    }
  },
  "cells": [
    {
      "cell_type": "markdown",
      "metadata": {
        "id": "view-in-github",
        "colab_type": "text"
      },
      "source": [
        "<a href=\"https://colab.research.google.com/github/brentwilder/cabrillo-fog-monitoring/blob/main/GOES_Cabrillo.ipynb\" target=\"_parent\"><img src=\"https://colab.research.google.com/assets/colab-badge.svg\" alt=\"Open In Colab\"/></a>"
      ]
    },
    {
      "cell_type": "code",
      "execution_count": null,
      "metadata": {
        "id": "t_8TGs6C1-9s"
      },
      "outputs": [],
      "source": [
        "# Load earth engine into colab\n",
        "!pip install -q geemap\n",
        "import os\n",
        "import ee\n",
        "import geemap\n",
        "!earthengine authenticate\n",
        "ee.Initialize()"
      ]
    },
    {
      "cell_type": "code",
      "source": [
        "# Define region, dates, data, and scan\n",
        "region = ee.Geometry.Point([-117.2409989342995, 32.67346290618583])\n",
        "start_date = \"2020-01-01T00:00:00\"\n",
        "end_date = \"2021-12-31T23:59:59\"\n",
        "data = \"GOES-17\"\n",
        "scan = \"conus\""
      ],
      "metadata": {
        "id": "YESVrJfX2JsQ"
      },
      "execution_count": 65,
      "outputs": []
    },
    {
      "cell_type": "code",
      "source": [
        "# Call goes timeseries function to create new image collection\n",
        "col = geemap.goes_timeseries(start_date, end_date, data, scan, region)"
      ],
      "metadata": {
        "id": "G7fktPWC2uVv"
      },
      "execution_count": 66,
      "outputs": []
    },
    {
      "cell_type": "code",
      "source": [
        "# Create function to extract point value at cabrillo\n",
        "def reduce_col(image):\n",
        "  image = image.select('CMI_C02')\n",
        "  reducer = image.reduceRegions(region, ee.Reducer.first())\n",
        "  return reducer.set({'id': image.id(), 'time': image.date().format()})\n",
        "  \n",
        "# Apply function and flatten ee feature collection\n",
        "result = col.select('CMI_C02').map(reduce_col).flatten()"
      ],
      "metadata": {
        "id": "e8Ht9Drx3bko"
      },
      "execution_count": 67,
      "outputs": []
    },
    {
      "cell_type": "code",
      "source": [
        "# Export this as csv file to my drive\n",
        "geemap.ee_export_vector_to_drive(result, description='GOES_table', folder='GOES', file_format='csv')"
      ],
      "metadata": {
        "colab": {
          "base_uri": "https://localhost:8080/"
        },
        "id": "bgNKtzZnAFRt",
        "outputId": "5dfc532f-899d-435b-850a-b8320f111109"
      },
      "execution_count": 68,
      "outputs": [
        {
          "output_type": "stream",
          "name": "stdout",
          "text": [
            "Exporting GOES_table...\n"
          ]
        }
      ]
    }
  ]
}